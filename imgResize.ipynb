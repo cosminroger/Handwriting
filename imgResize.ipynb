{
 "cells": [
  {
   "cell_type": "code",
   "execution_count": 1,
   "id": "c4ab9612",
   "metadata": {},
   "outputs": [],
   "source": [
    "from PIL import Image\n",
    "import os\n",
    "from os import walk\n",
    "import PIL\n",
    "import cv2\n",
    "import numpy as np\n",
    "from numpy import asarray"
   ]
  },
  {
   "cell_type": "code",
   "execution_count": 2,
   "id": "57bfc14a",
   "metadata": {},
   "outputs": [],
   "source": [
    "### Script used for converting all images to 32x32 size"
   ]
  },
  {
   "cell_type": "code",
   "execution_count": 3,
   "id": "a0f3cd57",
   "metadata": {},
   "outputs": [],
   "source": [
    "os.mkdir(\"Characters\\\\JPEGResized\\\\\")\n",
    "subfolders = [ f.path for f in os.scandir(\"Characters\\JPEG\") if f.is_dir() ]\n",
    "\n",
    "for subfolder in subfolders:\n",
    "    _, _, filenames = next(walk(subfolder))\n",
    "    counter = 0\n",
    "    splitName = str(subfolder).split(\"\\\\\")\n",
    "    os.mkdir(\"Characters\\\\JPEGResized\\\\\"+splitName[2])\n",
    "    for filename in filenames:\n",
    "        image = Image.open(subfolder+\"\\\\\"+filename)\n",
    "        \n",
    "        # Change the fixed size here if you want to have a different size\n",
    "        fixedSize = 32\n",
    "        x = 0\n",
    "        y = 0\n",
    "        \n",
    "        if image.size[0] > image.size[1]:\n",
    "            xPercent = fixedSize/float(image.size[0])\n",
    "            ySize = int(float(image.size[1])*float(xPercent))\n",
    "            image = image.resize((fixedSize,ySize), PIL.Image.NEAREST)\n",
    "            \n",
    "            npImage = np.array(image)\n",
    "            \n",
    "            #Change (32,32) to desired size here too!\n",
    "            resized = cv2.resize(npImage, (32,32), interpolation = cv2.INTER_AREA)\n",
    "            \n",
    "            resized = Image.fromarray(resized, 'L')\n",
    "            resized.save(\"Characters\\\\JPEGResized\\\\\"+splitName[2]+\"\\\\\"+str(counter)+\".jpg\")\n",
    "           \n",
    "        else:\n",
    "            yPercent = fixedSize/float(image.size[1])\n",
    "            xSize = int(float(image.size[0])*float(yPercent))\n",
    "            image = image.resize((xSize,fixedSize), PIL.Image.NEAREST)\n",
    "            \n",
    "            npImage = np.array(image)\n",
    "\n",
    "            #Change (32,32) to desired size here too!\n",
    "            resized = cv2.resize(npImage, (32,32), interpolation = cv2.INTER_AREA)\n",
    "            \n",
    "            resized = Image.fromarray(resized, 'L')\n",
    "            resized.save(\"Characters\\\\JPEGResized\\\\\"+splitName[2]+\"\\\\\"+str(counter)+\".jpg\")\n",
    "            \n",
    "        counter += 1\n",
    "\n",
    "        "
   ]
  },
  {
   "cell_type": "code",
   "execution_count": null,
   "id": "59e3e615",
   "metadata": {},
   "outputs": [],
   "source": []
  }
 ],
 "metadata": {
  "kernelspec": {
   "display_name": "Python 3",
   "language": "python",
   "name": "python3"
  },
  "language_info": {
   "codemirror_mode": {
    "name": "ipython",
    "version": 3
   },
   "file_extension": ".py",
   "mimetype": "text/x-python",
   "name": "python",
   "nbconvert_exporter": "python",
   "pygments_lexer": "ipython3",
   "version": "3.7.0"
  }
 },
 "nbformat": 4,
 "nbformat_minor": 5
}
